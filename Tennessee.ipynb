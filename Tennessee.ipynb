{
  "nbformat": 4,
  "nbformat_minor": 0,
  "metadata": {
    "colab": {
      "provenance": []
    },
    "kernelspec": {
      "name": "python3",
      "display_name": "Python 3"
    },
    "language_info": {
      "name": "python"
    }
  },
  "cells": [
    {
      "cell_type": "markdown",
      "source": [
        "Detect all duplicate properly in threshold 3"
      ],
      "metadata": {
        "id": "QwtveOWKbtZn"
      }
    },
    {
      "cell_type": "markdown",
      "source": [],
      "metadata": {
        "id": "kcWD_tn0Cnzl"
      }
    },
    {
      "cell_type": "code",
      "source": [
        "pip install python-Levenshtein\n"
      ],
      "metadata": {
        "colab": {
          "base_uri": "https://localhost:8080/"
        },
        "id": "YdKjx3AsbBNV",
        "outputId": "051f28f9-2991-4b27-dc55-cc7ff06aca04"
      },
      "execution_count": 1,
      "outputs": [
        {
          "output_type": "stream",
          "name": "stdout",
          "text": [
            "Looking in indexes: https://pypi.org/simple, https://us-python.pkg.dev/colab-wheels/public/simple/\n",
            "Collecting python-Levenshtein\n",
            "  Downloading python_Levenshtein-0.21.0-py3-none-any.whl (9.4 kB)\n",
            "Collecting Levenshtein==0.21.0 (from python-Levenshtein)\n",
            "  Downloading Levenshtein-0.21.0-cp310-cp310-manylinux_2_17_x86_64.manylinux2014_x86_64.whl (174 kB)\n",
            "\u001b[2K     \u001b[90m━━━━━━━━━━━━━━━━━━━━━━━━━━━━━━━━━━━━━━━\u001b[0m \u001b[32m174.1/174.1 kB\u001b[0m \u001b[31m9.0 MB/s\u001b[0m eta \u001b[36m0:00:00\u001b[0m\n",
            "\u001b[?25hCollecting rapidfuzz<4.0.0,>=2.3.0 (from Levenshtein==0.21.0->python-Levenshtein)\n",
            "  Downloading rapidfuzz-3.0.0-cp310-cp310-manylinux_2_17_x86_64.manylinux2014_x86_64.whl (3.0 MB)\n",
            "\u001b[2K     \u001b[90m━━━━━━━━━━━━━━━━━━━━━━━━━━━━━━━━━━━━━━━━\u001b[0m \u001b[32m3.0/3.0 MB\u001b[0m \u001b[31m70.0 MB/s\u001b[0m eta \u001b[36m0:00:00\u001b[0m\n",
            "\u001b[?25hInstalling collected packages: rapidfuzz, Levenshtein, python-Levenshtein\n",
            "Successfully installed Levenshtein-0.21.0 python-Levenshtein-0.21.0 rapidfuzz-3.0.0\n"
          ]
        }
      ]
    },
    {
      "cell_type": "code",
      "execution_count": 3,
      "metadata": {
        "colab": {
          "base_uri": "https://localhost:8080/"
        },
        "id": "Wg6JPeWdZJK-",
        "outputId": "ce25407e-d05b-4892-868f-9b2b514f2959"
      },
      "outputs": [
        {
          "output_type": "stream",
          "name": "stdout",
          "text": [
            "Total URLs:  601\n",
            "Duplicate URLs:  5\n",
            "Duplicate URL pairs:\n",
            "https://www.boomershub.com/assisted-living/tennessee/knoxville/autumn-care\n",
            "https://www.boomershub.com/assisted-living/tennessee/knoxville/autumn-care-ii\n",
            "\n",
            "https://www.boomershub.com/assisted-living/tennessee/knoxville/the-courtyards-senior-living-knoxville\n",
            "https://www.boomershub.com/assisted-living/tennessee/knoxville/the-courtyards-senior-living-knoxville-3\n",
            "\n",
            "https://www.boomershub.com/assisted-living/tennessee/manchester/bailey-manor\n",
            "https://www.boomershub.com/assisted-living/tennessee/winchester/bailey-manor\n",
            "\n",
            "https://www.boomershub.com/assisted-living/tennessee/memphis/ridgemont-manor-1\n",
            "https://www.boomershub.com/assisted-living/tennessee/memphis/ridgemont-manor-2\n",
            "\n",
            "https://www.boomershub.com/assisted-living/tennessee/nashville/brookdale-belle-meade\n",
            "https://www.boomershub.com/assisted-living/tennessee/nashville/brookedale-belle-meade\n",
            "\n"
          ]
        }
      ],
      "source": [
        "import pandas as pd\n",
        "import Levenshtein\n",
        "\n",
        "# Read data from Excel file\n",
        "df = pd.read_excel('/content/Tennessee.xlsx')\n",
        "\n",
        "# Extract URLs from the dataframe\n",
        "urls = df['Property page URL'].tolist()\n",
        "\n",
        "# Function to find duplicate URLs using Levenshtein distance\n",
        "def find_duplicate_urls(urls, threshold=3):\n",
        "    duplicate_urls = []\n",
        "\n",
        "    for i in range(len(urls)):\n",
        "        for j in range(i + 1, len(urls)):\n",
        "            distance = Levenshtein.distance(urls[i], urls[j])\n",
        "            if distance <= threshold:\n",
        "                duplicate_urls.append((urls[i], urls[j]))\n",
        "\n",
        "    return duplicate_urls\n",
        "\n",
        "# Find duplicate URLs\n",
        "duplicate_urls = find_duplicate_urls(urls)\n",
        "\n",
        "# Print results\n",
        "total_urls = len(urls)\n",
        "total_duplicates = len(duplicate_urls)\n",
        "\n",
        "print(\"Total URLs: \", total_urls)\n",
        "print(\"Duplicate URLs: \", total_duplicates)\n",
        "\n",
        "if duplicate_urls:\n",
        "    print(\"Duplicate URL pairs:\")\n",
        "    for url_pair in duplicate_urls:\n",
        "        print(url_pair[0])\n",
        "        print(url_pair[1])\n",
        "        print()\n",
        "else:\n",
        "    print(\"No duplicate URLs.\")\n"
      ]
    }
  ]
}